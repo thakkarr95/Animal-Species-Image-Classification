{
 "cells": [
  {
   "cell_type": "code",
   "execution_count": null,
   "metadata": {},
   "outputs": [],
   "source": [
    "#Importing the desired libraries\n",
    "import os\n",
    "import random\n",
    "import shutil\n",
    "import math"
   ]
  },
  {
   "cell_type": "code",
   "execution_count": null,
   "metadata": {},
   "outputs": [],
   "source": [
    "#Function to split the dataset\n",
    "def dataset_split(split):\n",
    "    #split determines the ratio in which original dataset is to be split\n",
    "    #Each class in the dataset will be splitted\n",
    "    image_classes = os.listdir(\"Final_Dataset\")\n",
    "    for cl in image_classes:\n",
    "        cl_images = os.listdir(\"Final_Dataset/\"+str(cl))\n",
    "        random.Random(95).shuffle(cl_images)\n",
    "        desired_images_indices = math.ceil(len(cl_images)*split)\n",
    "        desired_images = cl_images[:desired_images_indices]\n",
    "        \n",
    "        print(desired_images)\n",
    "        \n",
    "        for image in desired_images:\n",
    "            if not os.path.exists(\"Final_Dataset_\"+str(split)+\"/\"+str(cl)):\n",
    "                os.mkdir(\"Final_Dataset_\"+str(split)+\"/\"+str(cl))\n",
    "            dataset_source = \"Final_Dataset/\"+str(cl)+\"/\"+image\n",
    "            desired_destination = \"Final_Dataset_\"+str(split)+\"/\"+str(cl)\n",
    "            shutil.copy(dataset_source,desired_destination)            "
   ]
  },
  {
   "cell_type": "code",
   "execution_count": null,
   "metadata": {},
   "outputs": [],
   "source": [
    "#Calling the function defined above\n",
    "dataset_split(split = 0.3)"
   ]
  }
 ],
 "metadata": {
  "kernelspec": {
   "display_name": "Python 3",
   "language": "python",
   "name": "python3"
  },
  "language_info": {
   "codemirror_mode": {
    "name": "ipython",
    "version": 3
   },
   "file_extension": ".py",
   "mimetype": "text/x-python",
   "name": "python",
   "nbconvert_exporter": "python",
   "pygments_lexer": "ipython3",
   "version": "3.5.5"
  }
 },
 "nbformat": 4,
 "nbformat_minor": 2
}
